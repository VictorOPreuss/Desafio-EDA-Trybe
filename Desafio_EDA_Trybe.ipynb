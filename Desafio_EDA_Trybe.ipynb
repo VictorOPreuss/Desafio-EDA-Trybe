{
  "nbformat": 4,
  "nbformat_minor": 0,
  "metadata": {
    "colab": {
      "name": "Desafio EDA - Trybe.ipynb",
      "provenance": [],
      "collapsed_sections": [],
      "authorship_tag": "ABX9TyPvNxzEGCEZl9c31qbeBlU7",
      "include_colab_link": true
    },
    "kernelspec": {
      "name": "python3",
      "display_name": "Python 3"
    }
  },
  "cells": [
    {
      "cell_type": "markdown",
      "metadata": {
        "id": "view-in-github",
        "colab_type": "text"
      },
      "source": [
        "<a href=\"https://colab.research.google.com/github/VictorOPreuss/Desafio-EDA-Trybe/blob/master/Desafio_EDA_Trybe.ipynb\" target=\"_parent\"><img src=\"https://colab.research.google.com/assets/colab-badge.svg\" alt=\"Open In Colab\"/></a>"
      ]
    },
    {
      "cell_type": "markdown",
      "metadata": {
        "id": "NXn3Q6Ulx_nD",
        "colab_type": "text"
      },
      "source": [
        "# **Desafio EDA - Trybe**\n",
        "### Este notebook é um exemplo de EDA para a base de dados pública [*Mental Health in Tech Survey*](https://www.kaggle.com/osmi/mental-health-in-tech-survey), disponibilizada pela **Open Sourcing Mental Illness, LTD**.\n",
        "\n",
        "### O estudo está sendo feito para uma instituição que encomendou a pesquisa com o intuito de vincular a mesma em um grande site de *review* de empresas.\n",
        "\n",
        "### Algumas das perguntas a serem respondidas com a análise exploratória da base de dados são:\n",
        "\n",
        "### **- Existe alguma associação entre profissionais que buscaram tratamento e o gênero no qual se identificam?**\n",
        "### **- Existe uma relação entre as pessoas colaboradoras que buscaram tratamento e que possuem histórico familiar de doenças mentais?**\n",
        "### **- O tamanho da empresa influencia na frequência de pessoas colaboradoras que buscaram tratamento para saúde mental?**\n",
        "### **- As empresas que possuem programas de bem-estar tem uma frequência menor de respondentes que buscaram tratamento para doenças mentais?**\n",
        "### **- As empresas que possuem benefícios para saúde mental tem uma frequência menor de respondentes que buscaram tratamento para doenças mentais?**\n"
      ]
    },
    {
      "cell_type": "markdown",
      "metadata": {
        "id": "cKwHQ2vXjU_w",
        "colab_type": "text"
      },
      "source": [
        "# **Bibliotecas**"
      ]
    },
    {
      "cell_type": "code",
      "metadata": {
        "id": "A431YYa0JdG2",
        "colab_type": "code",
        "colab": {
          "base_uri": "https://localhost:8080/",
          "height": 71
        },
        "outputId": "80bb29c3-847f-4574-e7c2-6211ee5c50a9"
      },
      "source": [
        "# Basic packages\n",
        "import numpy as np # linear algebra\n",
        "import pandas as pd # data processing, CSV file I/O (e.g. pd.read_csv)\n",
        "import matplotlib.pyplot as plt\n",
        "import seaborn as sns\n",
        "import statsmodels.api as sm\n",
        "import scipy.stats as sct\n",
        "from google.colab import files"
      ],
      "execution_count": null,
      "outputs": [
        {
          "output_type": "stream",
          "text": [
            "/usr/local/lib/python3.6/dist-packages/statsmodels/tools/_testing.py:19: FutureWarning: pandas.util.testing is deprecated. Use the functions in the public API at pandas.testing instead.\n",
            "  import pandas.util.testing as tm\n"
          ],
          "name": "stderr"
        }
      ]
    },
    {
      "cell_type": "markdown",
      "metadata": {
        "id": "IE8PBXpOjdiC",
        "colab_type": "text"
      },
      "source": [
        "# **Dados**"
      ]
    },
    {
      "cell_type": "code",
      "metadata": {
        "id": "zIPF8S6Df9pL",
        "colab_type": "code",
        "colab": {
          "resources": {
            "http://localhost:8080/nbextensions/google.colab/files.js": {
              "data": "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",
              "ok": true,
              "headers": [
                [
                  "content-type",
                  "application/javascript"
                ]
              ],
              "status": 200,
              "status_text": ""
            }
          },
          "base_uri": "https://localhost:8080/",
          "height": 72
        },
        "outputId": "72e52415-949f-4351-ab85-29bda8e77207"
      },
      "source": [
        "# Upload kaggle.json API key file\n",
        "\n",
        "uploaded = files.upload()"
      ],
      "execution_count": null,
      "outputs": [
        {
          "output_type": "display_data",
          "data": {
            "text/html": [
              "\n",
              "     <input type=\"file\" id=\"files-b9c95a9e-bd23-4022-ac65-65c8e028fa8c\" name=\"files[]\" multiple disabled\n",
              "        style=\"border:none\" />\n",
              "     <output id=\"result-b9c95a9e-bd23-4022-ac65-65c8e028fa8c\">\n",
              "      Upload widget is only available when the cell has been executed in the\n",
              "      current browser session. Please rerun this cell to enable.\n",
              "      </output>\n",
              "      <script src=\"/nbextensions/google.colab/files.js\"></script> "
            ],
            "text/plain": [
              "<IPython.core.display.HTML object>"
            ]
          },
          "metadata": {
            "tags": []
          }
        },
        {
          "output_type": "stream",
          "text": [
            "Saving kaggle.json to kaggle.json\n"
          ],
          "name": "stdout"
        }
      ]
    },
    {
      "cell_type": "code",
      "metadata": {
        "id": "9eVDSbAXm8ew",
        "colab_type": "code",
        "colab": {
          "base_uri": "https://localhost:8080/",
          "height": 428
        },
        "outputId": "4d0cfbde-99d4-422d-b2c1-5b7d81d723cf"
      },
      "source": [
        "! mkdir ~/.kaggle\n",
        "\n",
        "! cp kaggle.json ~/.kaggle/\n",
        "\n",
        "! chmod 600 ~/.kaggle/kaggle.json\n",
        "\n",
        "! kaggle datasets list"
      ],
      "execution_count": null,
      "outputs": [
        {
          "output_type": "stream",
          "text": [
            "Warning: Looks like you're using an outdated API Version, please consider updating (server 1.5.6 / client 1.5.4)\n",
            "ref                                                               title                                              size  lastUpdated          downloadCount  \n",
            "----------------------------------------------------------------  ------------------------------------------------  -----  -------------------  -------------  \n",
            "jmmvutu/summer-products-and-sales-in-ecommerce-wish               Sales of summer clothes in E-commerce Wish        376KB  2020-08-23 15:16:46           2322  \n",
            "Cornell-University/arxiv                                          arXiv Dataset                                     877MB  2020-08-14 23:50:57           1993  \n",
            "agirlcoding/all-space-missions-from-1957                          All Space Missions from 1957                      101KB  2020-08-13 16:18:58           1390  \n",
            "landlord/handwriting-recognition                                  Handwriting Recognition                             1GB  2020-08-05 17:20:36            456  \n",
            "andrewmvd/heart-failure-clinical-data                             Heart Failure Prediction                            4KB  2020-06-20 01:03:20           3400  \n",
            "martj42/womens-international-football-results                     Women's International Football Results             52KB  2020-08-14 13:24:15            353  \n",
            "vikasojha98/top-women-chess-players                               Top Women Chess Players                           182KB  2020-08-04 16:17:14            385  \n",
            "andrewmvd/hard-hat-detection                                      Safety Helmet Detection                             1GB  2020-08-11 07:40:12            173  \n",
            "andrewmvd/doom-crossing                                           Doom or Animal Crossing? (Image Classification)   997MB  2020-06-04 19:31:08            118  \n",
            "ashwinik/consumer-complaints-financial-products                   Consumer Complaints - Financial products           59MB  2020-08-02 16:36:33            398  \n",
            "jacobbaruch/basketball-players-stats-per-season-49-leagues        Basketball Players Stats per Season - 49 Leagues    2MB  2020-08-15 20:54:02            481  \n",
            "gpreda/unemployment-in-european-union                             Unemployment in European Union                    874KB  2020-08-12 20:28:46            447  \n",
            "gpreda/covid19-tweets                                             COVID19 Tweets                                     26MB  2020-08-22 11:16:29           3276  \n",
            "ahsen1330/us-police-shootings                                     US Police Shootings                               126KB  2020-07-30 04:23:34           2121  \n",
            "vidyapb/indian-school-education-statistics                        Indian School Education Statistics                 24KB  2020-07-23 17:26:11           1885  \n",
            "christianlillelund/passenger-list-for-the-estonia-ferry-disaster  The Estonia Disaster Passenger List                14KB  2020-07-26 15:40:17            809  \n",
            "futurecorporation/epitope-prediction                              COVID-19/SARS B-cell Epitope Prediction             1MB  2020-07-24 02:53:28            856  \n",
            "google/tinyquickdraw                                              QuickDraw Sketches                                 11GB  2018-04-18 19:38:04           2222  \n",
            "datasnaek/youtube-new                                             Trending YouTube Video Statistics                 201MB  2019-06-03 00:56:47         102302  \n",
            "zynicide/wine-reviews                                             Wine Reviews                                       51MB  2017-11-27 17:08:04         110382  \n"
          ],
          "name": "stdout"
        }
      ]
    },
    {
      "cell_type": "code",
      "metadata": {
        "id": "GmZTHuQBm9Iy",
        "colab_type": "code",
        "colab": {
          "base_uri": "https://localhost:8080/",
          "height": 68
        },
        "outputId": "cf03804a-7b0c-4150-ec38-4bd0dbe4522e"
      },
      "source": [
        "!kaggle datasets download -d osmi/mental-health-in-tech-survey"
      ],
      "execution_count": null,
      "outputs": [
        {
          "output_type": "stream",
          "text": [
            "Downloading mental-health-in-tech-survey.zip to /content\n",
            "\r  0% 0.00/48.8k [00:00<?, ?B/s]\n",
            "\r100% 48.8k/48.8k [00:00<00:00, 18.1MB/s]\n"
          ],
          "name": "stdout"
        }
      ]
    },
    {
      "cell_type": "code",
      "metadata": {
        "id": "d_HUeiTonGDK",
        "colab_type": "code",
        "colab": {
          "base_uri": "https://localhost:8080/",
          "height": 51
        },
        "outputId": "3e2a0e8e-399f-48f1-a43c-a3860afffd85"
      },
      "source": [
        "! unzip mental-health-in-tech-survey.zip -d data"
      ],
      "execution_count": null,
      "outputs": [
        {
          "output_type": "stream",
          "text": [
            "Archive:  mental-health-in-tech-survey.zip\n",
            "  inflating: data/survey.csv         \n"
          ],
          "name": "stdout"
        }
      ]
    },
    {
      "cell_type": "code",
      "metadata": {
        "id": "qu8CaSVVhByN",
        "colab_type": "code",
        "colab": {}
      },
      "source": [
        "data = pd.read_csv('data/survey.csv')"
      ],
      "execution_count": null,
      "outputs": []
    },
    {
      "cell_type": "markdown",
      "metadata": {
        "id": "YnRMA0Yo2LYa",
        "colab_type": "text"
      },
      "source": [
        "# **Funções**"
      ]
    },
    {
      "cell_type": "code",
      "metadata": {
        "id": "FgScx1nj5r37",
        "colab_type": "code",
        "colab": {}
      },
      "source": [
        "# FUNÇÕES\n",
        "\n",
        "def missing_values_table(df):\n",
        "\n",
        "  \"\"\" \n",
        "  Função para apresentar as variáveis que possuem valores faltantes, tanto em quantidade como frequência\n",
        "  dentro dos valores observados.\n",
        "\n",
        "  :param df: Dataframe que se deseja analisar.\n",
        "  :return: Tabela com as variáveis que possuem dados faltantes, a quantidade e frequência. \n",
        "  \"\"\"\n",
        "\n",
        "  # Total missing values\n",
        "  mis_val = df.isnull().sum()\n",
        "    \n",
        "  # Percentage of missing values\n",
        "  mis_val_percent = 100 * df.isnull().sum() / len(df)\n",
        "        \n",
        "  # Make a table with the results\n",
        "  mis_val_table = pd.concat([mis_val, mis_val_percent], axis=1)\n",
        "        \n",
        "  # Rename the columns\n",
        "  mis_val_table_ren_columns = mis_val_table.rename(\n",
        "  columns = {0 : 'Missing Values', 1 : '% of Total Values'})\n",
        "        \n",
        "  # Sort the table by percentage of missing descending\n",
        "  mis_val_table_ren_columns = mis_val_table_ren_columns[\n",
        "  mis_val_table_ren_columns.iloc[:,1] != 0].sort_values(\n",
        "  '% of Total Values', ascending=False).round(1)\n",
        "        \n",
        "  # Print some summary information\n",
        "  print (\"Your selected dataframe has \" + str(df.shape[1]) + \" columns.\\n\"      \n",
        "      \"There are \" + str(mis_val_table_ren_columns.shape[0]) +\n",
        "      \" columns that have missing values.\")\n",
        "        \n",
        "   # Return the dataframe with missing information\n",
        "  return mis_val_table_ren_columns\n",
        "\n",
        "def percent_value_counts(df, feature):\n",
        "    \"\"\"\n",
        "    Função que traz a frequência em porcentagem dos valores presentes em determinada coluna de determinado DataFrame.\n",
        "\n",
        "    :param df: DataFrame a ser analisado.\n",
        "    :param feature: Coluna a ser analisada.\n",
        "    :return: Tabela com os dados únicos, e referente frequência na coluna, em order decrescente.\n",
        "    \"\"\"\n",
        "\n",
        "    percent = pd.DataFrame(round(df.loc[:,feature].value_counts(dropna=False, normalize=True)*100,2))\n",
        "    total = pd.DataFrame(df.loc[:,feature].value_counts(dropna=False))\n",
        "\n",
        "    total.columns = [\"Total\"]\n",
        "    percent.columns = ['Percent']\n",
        "    return pd.concat([total, percent], axis = 1)"
      ],
      "execution_count": null,
      "outputs": []
    },
    {
      "cell_type": "markdown",
      "metadata": {
        "id": "4A9QMmj7jjhz",
        "colab_type": "text"
      },
      "source": [
        "# **EDA**"
      ]
    },
    {
      "cell_type": "markdown",
      "metadata": {
        "id": "R6dG0a2hsWVL",
        "colab_type": "text"
      },
      "source": [
        "## **Shape e amostragem da base de dados**"
      ]
    },
    {
      "cell_type": "markdown",
      "metadata": {
        "id": "fBnWB5vgjs96",
        "colab_type": "text"
      },
      "source": [
        "Vamos começar analisando registros aleatórios de todas as colunas para entender um pouco dos dados da base."
      ]
    },
    {
      "cell_type": "code",
      "metadata": {
        "id": "e20thHQ7hyne",
        "colab_type": "code",
        "colab": {
          "base_uri": "https://localhost:8080/",
          "height": 462
        },
        "outputId": "b9d37df7-2e73-4088-aa7b-dd8ee40f55a4"
      },
      "source": [
        "print(data.shape)\n",
        "data.sample(5)"
      ],
      "execution_count": null,
      "outputs": [
        {
          "output_type": "stream",
          "text": [
            "(1259, 27)\n"
          ],
          "name": "stdout"
        },
        {
          "output_type": "execute_result",
          "data": {
            "text/html": [
              "<div>\n",
              "<style scoped>\n",
              "    .dataframe tbody tr th:only-of-type {\n",
              "        vertical-align: middle;\n",
              "    }\n",
              "\n",
              "    .dataframe tbody tr th {\n",
              "        vertical-align: top;\n",
              "    }\n",
              "\n",
              "    .dataframe thead th {\n",
              "        text-align: right;\n",
              "    }\n",
              "</style>\n",
              "<table border=\"1\" class=\"dataframe\">\n",
              "  <thead>\n",
              "    <tr style=\"text-align: right;\">\n",
              "      <th></th>\n",
              "      <th>Timestamp</th>\n",
              "      <th>Age</th>\n",
              "      <th>Gender</th>\n",
              "      <th>Country</th>\n",
              "      <th>state</th>\n",
              "      <th>self_employed</th>\n",
              "      <th>family_history</th>\n",
              "      <th>treatment</th>\n",
              "      <th>work_interfere</th>\n",
              "      <th>no_employees</th>\n",
              "      <th>remote_work</th>\n",
              "      <th>tech_company</th>\n",
              "      <th>benefits</th>\n",
              "      <th>care_options</th>\n",
              "      <th>wellness_program</th>\n",
              "      <th>seek_help</th>\n",
              "      <th>anonymity</th>\n",
              "      <th>leave</th>\n",
              "      <th>mental_health_consequence</th>\n",
              "      <th>phys_health_consequence</th>\n",
              "      <th>coworkers</th>\n",
              "      <th>supervisor</th>\n",
              "      <th>mental_health_interview</th>\n",
              "      <th>phys_health_interview</th>\n",
              "      <th>mental_vs_physical</th>\n",
              "      <th>obs_consequence</th>\n",
              "      <th>comments</th>\n",
              "    </tr>\n",
              "  </thead>\n",
              "  <tbody>\n",
              "    <tr>\n",
              "      <th>131</th>\n",
              "      <td>2014-08-27 12:35:23</td>\n",
              "      <td>32</td>\n",
              "      <td>male</td>\n",
              "      <td>United States</td>\n",
              "      <td>CA</td>\n",
              "      <td>No</td>\n",
              "      <td>No</td>\n",
              "      <td>No</td>\n",
              "      <td>Rarely</td>\n",
              "      <td>1-5</td>\n",
              "      <td>Yes</td>\n",
              "      <td>Yes</td>\n",
              "      <td>No</td>\n",
              "      <td>Yes</td>\n",
              "      <td>No</td>\n",
              "      <td>No</td>\n",
              "      <td>Don't know</td>\n",
              "      <td>Very difficult</td>\n",
              "      <td>Maybe</td>\n",
              "      <td>No</td>\n",
              "      <td>Yes</td>\n",
              "      <td>Some of them</td>\n",
              "      <td>No</td>\n",
              "      <td>Yes</td>\n",
              "      <td>Don't know</td>\n",
              "      <td>No</td>\n",
              "      <td>NaN</td>\n",
              "    </tr>\n",
              "    <tr>\n",
              "      <th>1041</th>\n",
              "      <td>2014-08-29 11:20:13</td>\n",
              "      <td>33</td>\n",
              "      <td>Male</td>\n",
              "      <td>United States</td>\n",
              "      <td>NY</td>\n",
              "      <td>No</td>\n",
              "      <td>No</td>\n",
              "      <td>No</td>\n",
              "      <td>NaN</td>\n",
              "      <td>6-25</td>\n",
              "      <td>Yes</td>\n",
              "      <td>Yes</td>\n",
              "      <td>Yes</td>\n",
              "      <td>No</td>\n",
              "      <td>Don't know</td>\n",
              "      <td>Yes</td>\n",
              "      <td>Yes</td>\n",
              "      <td>Don't know</td>\n",
              "      <td>No</td>\n",
              "      <td>No</td>\n",
              "      <td>Some of them</td>\n",
              "      <td>Yes</td>\n",
              "      <td>No</td>\n",
              "      <td>No</td>\n",
              "      <td>Yes</td>\n",
              "      <td>No</td>\n",
              "      <td>NaN</td>\n",
              "    </tr>\n",
              "    <tr>\n",
              "      <th>129</th>\n",
              "      <td>2014-08-27 12:34:51</td>\n",
              "      <td>19</td>\n",
              "      <td>male</td>\n",
              "      <td>Slovenia</td>\n",
              "      <td>NaN</td>\n",
              "      <td>No</td>\n",
              "      <td>No</td>\n",
              "      <td>Yes</td>\n",
              "      <td>Sometimes</td>\n",
              "      <td>6-25</td>\n",
              "      <td>No</td>\n",
              "      <td>Yes</td>\n",
              "      <td>Don't know</td>\n",
              "      <td>No</td>\n",
              "      <td>No</td>\n",
              "      <td>No</td>\n",
              "      <td>Don't know</td>\n",
              "      <td>Somewhat easy</td>\n",
              "      <td>Yes</td>\n",
              "      <td>Yes</td>\n",
              "      <td>Some of them</td>\n",
              "      <td>No</td>\n",
              "      <td>No</td>\n",
              "      <td>No</td>\n",
              "      <td>Don't know</td>\n",
              "      <td>No</td>\n",
              "      <td>NaN</td>\n",
              "    </tr>\n",
              "    <tr>\n",
              "      <th>963</th>\n",
              "      <td>2014-08-29 05:39:21</td>\n",
              "      <td>24</td>\n",
              "      <td>M</td>\n",
              "      <td>United Kingdom</td>\n",
              "      <td>NaN</td>\n",
              "      <td>Yes</td>\n",
              "      <td>Yes</td>\n",
              "      <td>No</td>\n",
              "      <td>Often</td>\n",
              "      <td>1-5</td>\n",
              "      <td>Yes</td>\n",
              "      <td>Yes</td>\n",
              "      <td>Don't know</td>\n",
              "      <td>Not sure</td>\n",
              "      <td>No</td>\n",
              "      <td>No</td>\n",
              "      <td>Don't know</td>\n",
              "      <td>Don't know</td>\n",
              "      <td>Maybe</td>\n",
              "      <td>No</td>\n",
              "      <td>Some of them</td>\n",
              "      <td>Some of them</td>\n",
              "      <td>No</td>\n",
              "      <td>Maybe</td>\n",
              "      <td>Don't know</td>\n",
              "      <td>No</td>\n",
              "      <td>NaN</td>\n",
              "    </tr>\n",
              "    <tr>\n",
              "      <th>13</th>\n",
              "      <td>2014-08-27 11:33:26</td>\n",
              "      <td>36</td>\n",
              "      <td>Male</td>\n",
              "      <td>United States</td>\n",
              "      <td>CT</td>\n",
              "      <td>NaN</td>\n",
              "      <td>Yes</td>\n",
              "      <td>No</td>\n",
              "      <td>Never</td>\n",
              "      <td>500-1000</td>\n",
              "      <td>No</td>\n",
              "      <td>Yes</td>\n",
              "      <td>Don't know</td>\n",
              "      <td>Not sure</td>\n",
              "      <td>No</td>\n",
              "      <td>Don't know</td>\n",
              "      <td>Don't know</td>\n",
              "      <td>Don't know</td>\n",
              "      <td>No</td>\n",
              "      <td>No</td>\n",
              "      <td>Yes</td>\n",
              "      <td>Yes</td>\n",
              "      <td>No</td>\n",
              "      <td>No</td>\n",
              "      <td>Don't know</td>\n",
              "      <td>No</td>\n",
              "      <td>I'm not on my company's health insurance which...</td>\n",
              "    </tr>\n",
              "  </tbody>\n",
              "</table>\n",
              "</div>"
            ],
            "text/plain": [
              "                Timestamp  ...                                           comments\n",
              "131   2014-08-27 12:35:23  ...                                                NaN\n",
              "1041  2014-08-29 11:20:13  ...                                                NaN\n",
              "129   2014-08-27 12:34:51  ...                                                NaN\n",
              "963   2014-08-29 05:39:21  ...                                                NaN\n",
              "13    2014-08-27 11:33:26  ...  I'm not on my company's health insurance which...\n",
              "\n",
              "[5 rows x 27 columns]"
            ]
          },
          "metadata": {
            "tags": []
          },
          "execution_count": 8
        }
      ]
    },
    {
      "cell_type": "markdown",
      "metadata": {
        "id": "UjmbsQMfj-36",
        "colab_type": "text"
      },
      "source": [
        "Podemos ver que grande parte dos dados são categóricos, temos um tipo de data/hora (*Timestamp*) e um numérico (*Age*). Agora, vamos entender um pouco mais sobre os tipos de dados de cada coluna, e se há valores faltantes."
      ]
    },
    {
      "cell_type": "markdown",
      "metadata": {
        "id": "7fn3pxCiskUp",
        "colab_type": "text"
      },
      "source": [
        "## **Tipos de dados e valores faltantes**"
      ]
    },
    {
      "cell_type": "code",
      "metadata": {
        "id": "Bcs-EVA0h2RF",
        "colab_type": "code",
        "colab": {
          "base_uri": "https://localhost:8080/",
          "height": 595
        },
        "outputId": "f36df333-8626-4139-ff8c-eae80e6a402c"
      },
      "source": [
        "data.info(verbose=True, null_counts=True)"
      ],
      "execution_count": null,
      "outputs": [
        {
          "output_type": "stream",
          "text": [
            "<class 'pandas.core.frame.DataFrame'>\n",
            "RangeIndex: 1259 entries, 0 to 1258\n",
            "Data columns (total 27 columns):\n",
            " #   Column                     Non-Null Count  Dtype \n",
            "---  ------                     --------------  ----- \n",
            " 0   Timestamp                  1259 non-null   object\n",
            " 1   Age                        1259 non-null   int64 \n",
            " 2   Gender                     1259 non-null   object\n",
            " 3   Country                    1259 non-null   object\n",
            " 4   state                      744 non-null    object\n",
            " 5   self_employed              1241 non-null   object\n",
            " 6   family_history             1259 non-null   object\n",
            " 7   treatment                  1259 non-null   object\n",
            " 8   work_interfere             995 non-null    object\n",
            " 9   no_employees               1259 non-null   object\n",
            " 10  remote_work                1259 non-null   object\n",
            " 11  tech_company               1259 non-null   object\n",
            " 12  benefits                   1259 non-null   object\n",
            " 13  care_options               1259 non-null   object\n",
            " 14  wellness_program           1259 non-null   object\n",
            " 15  seek_help                  1259 non-null   object\n",
            " 16  anonymity                  1259 non-null   object\n",
            " 17  leave                      1259 non-null   object\n",
            " 18  mental_health_consequence  1259 non-null   object\n",
            " 19  phys_health_consequence    1259 non-null   object\n",
            " 20  coworkers                  1259 non-null   object\n",
            " 21  supervisor                 1259 non-null   object\n",
            " 22  mental_health_interview    1259 non-null   object\n",
            " 23  phys_health_interview      1259 non-null   object\n",
            " 24  mental_vs_physical         1259 non-null   object\n",
            " 25  obs_consequence            1259 non-null   object\n",
            " 26  comments                   164 non-null    object\n",
            "dtypes: int64(1), object(26)\n",
            "memory usage: 265.7+ KB\n"
          ],
          "name": "stdout"
        }
      ]
    },
    {
      "cell_type": "code",
      "metadata": {
        "id": "oFHPFQkZRFjh",
        "colab_type": "code",
        "colab": {
          "base_uri": "https://localhost:8080/",
          "height": 207
        },
        "outputId": "d5750382-1de7-473c-c0c1-a7ddcb365908"
      },
      "source": [
        "# Valores faltantes na base de dados\n",
        "missing_values = missing_values_table(data)\n",
        "missing_values.head(10)"
      ],
      "execution_count": null,
      "outputs": [
        {
          "output_type": "stream",
          "text": [
            "Your selected dataframe has 27 columns.\n",
            "There are 4 columns that have missing values.\n"
          ],
          "name": "stdout"
        },
        {
          "output_type": "execute_result",
          "data": {
            "text/html": [
              "<div>\n",
              "<style scoped>\n",
              "    .dataframe tbody tr th:only-of-type {\n",
              "        vertical-align: middle;\n",
              "    }\n",
              "\n",
              "    .dataframe tbody tr th {\n",
              "        vertical-align: top;\n",
              "    }\n",
              "\n",
              "    .dataframe thead th {\n",
              "        text-align: right;\n",
              "    }\n",
              "</style>\n",
              "<table border=\"1\" class=\"dataframe\">\n",
              "  <thead>\n",
              "    <tr style=\"text-align: right;\">\n",
              "      <th></th>\n",
              "      <th>Missing Values</th>\n",
              "      <th>% of Total Values</th>\n",
              "    </tr>\n",
              "  </thead>\n",
              "  <tbody>\n",
              "    <tr>\n",
              "      <th>comments</th>\n",
              "      <td>1095</td>\n",
              "      <td>87.0</td>\n",
              "    </tr>\n",
              "    <tr>\n",
              "      <th>state</th>\n",
              "      <td>515</td>\n",
              "      <td>40.9</td>\n",
              "    </tr>\n",
              "    <tr>\n",
              "      <th>work_interfere</th>\n",
              "      <td>264</td>\n",
              "      <td>21.0</td>\n",
              "    </tr>\n",
              "    <tr>\n",
              "      <th>self_employed</th>\n",
              "      <td>18</td>\n",
              "      <td>1.4</td>\n",
              "    </tr>\n",
              "  </tbody>\n",
              "</table>\n",
              "</div>"
            ],
            "text/plain": [
              "                Missing Values  % of Total Values\n",
              "comments                  1095               87.0\n",
              "state                      515               40.9\n",
              "work_interfere             264               21.0\n",
              "self_employed               18                1.4"
            ]
          },
          "metadata": {
            "tags": []
          },
          "execution_count": 10
        }
      ]
    },
    {
      "cell_type": "markdown",
      "metadata": {
        "id": "IKaI77AUkQmV",
        "colab_type": "text"
      },
      "source": [
        "Podemos ver que a maioria das variáveis estão como *object*, e que temos as seguintes variáveis com dados faltantes: **state**, **self_employed**, **work_interfere** e **comments**. Como estas variáveis não influenciam nas respostas que estamos buscando, deixaremos elas de lado por enquanto. \n",
        "\n",
        "Vamos dar uma olhada um pouco mais afundo nos valores únicos das variáveis, tanto *categóricas* quanto *numéricas*."
      ]
    },
    {
      "cell_type": "markdown",
      "metadata": {
        "id": "4W0bdFXgspnZ",
        "colab_type": "text"
      },
      "source": [
        "## **Análise e transformação das variáveis numéricas e categóricas**"
      ]
    },
    {
      "cell_type": "markdown",
      "metadata": {
        "id": "L9EcMGTOfCvK",
        "colab_type": "text"
      },
      "source": [
        "### Análise e transformações na variável numérica"
      ]
    },
    {
      "cell_type": "code",
      "metadata": {
        "id": "t82LO4A0UQVR",
        "colab_type": "code",
        "colab": {
          "base_uri": "https://localhost:8080/",
          "height": 51
        },
        "outputId": "c4690b5b-1ddc-4e13-98c6-067ec5f8dce4"
      },
      "source": [
        "data.select_dtypes('int64').apply(pd.Series.nunique, axis = 0).sort_values(ascending=False) # mostra a quantidade de valores únicos da variável"
      ],
      "execution_count": null,
      "outputs": [
        {
          "output_type": "execute_result",
          "data": {
            "text/plain": [
              "Age    53\n",
              "dtype: int64"
            ]
          },
          "metadata": {
            "tags": []
          },
          "execution_count": 11
        }
      ]
    },
    {
      "cell_type": "markdown",
      "metadata": {
        "id": "PWkVVPF8jE6c",
        "colab_type": "text"
      },
      "source": [
        "Vamos dar uma olhada na distribuição da nossa única variável numérica, *Age*, e testar a hipótese de que a mesma segue uma distribuição normal."
      ]
    },
    {
      "cell_type": "code",
      "metadata": {
        "id": "wbgeVWQRhgZb",
        "colab_type": "code",
        "colab": {
          "base_uri": "https://localhost:8080/",
          "height": 295
        },
        "outputId": "8e3b09e6-3e2f-4e00-fae6-a0903cd59c7d"
      },
      "source": [
        "sns.boxplot(x=data[\"Age\"])\n",
        "plt.title('Distribuição das idades dos respondentes')\n",
        "plt.xlabel('Idade')\n",
        "plt.show()"
      ],
      "execution_count": null,
      "outputs": [
        {
          "output_type": "display_data",
          "data": {
            "image/png": "[encoded data removed]",
            "text/plain": [
              "<Figure size 432x288 with 1 Axes>"
            ]
          },
          "metadata": {
            "tags": [],
            "needs_background": "light"
          }
        }
      ]
    },
    {
      "cell_type": "markdown",
      "metadata": {
        "id": "jVTAIoiejL_v",
        "colab_type": "text"
      },
      "source": [
        "A distribuição apresenta uma escala muito grande, ou seja, provavelmente existem outliers na base de dados. Vamos olhar os valores únicos da coluna *Age*."
      ]
    },
    {
      "cell_type": "code",
      "metadata": {
        "id": "krd_1Khrhhn3",
        "colab_type": "code",
        "colab": {
          "base_uri": "https://localhost:8080/",
          "height": 204
        },
        "outputId": "e2d49fee-6657-4033-fdc3-383c01dbcb01"
      },
      "source": [
        "data['Age'].unique() # mostra todos os valores únicos da variável Age"
      ],
      "execution_count": null,
      "outputs": [
        {
          "output_type": "execute_result",
          "data": {
            "text/plain": [
              "array([         37,          44,          32,          31,          33,\n",
              "                35,          39,          42,          23,          29,\n",
              "                36,          27,          46,          41,          34,\n",
              "                30,          40,          38,          50,          24,\n",
              "                18,          28,          26,          22,          19,\n",
              "                25,          45,          21,         -29,          43,\n",
              "                56,          60,          54,         329,          55,\n",
              "       99999999999,          48,          20,          57,          58,\n",
              "                47,          62,          51,          65,          49,\n",
              "             -1726,           5,          53,          61,           8,\n",
              "                11,          -1,          72])"
            ]
          },
          "metadata": {
            "tags": []
          },
          "execution_count": 13
        }
      ]
    },
    {
      "cell_type": "markdown",
      "metadata": {
        "id": "nhYZ3-XmmBEj",
        "colab_type": "text"
      },
      "source": [
        "Temos muitos valores que não correspondem a uma idade humana adulta, como valores negativos, valores muito grandes ou muito pequenos (irei colocar uma linha de corte em 18 anos). Neste caso, irei substituí-los por None (valores não numéricos), e depois substituir esses valores pela mediana das idades dos respondentes."
      ]
    },
    {
      "cell_type": "code",
      "metadata": {
        "id": "aR-ohaMJhqu4",
        "colab_type": "code",
        "colab": {}
      },
      "source": [
        "data.Age.replace(to_replace=[-29, 329, 99999999999, -1726, 5, 8, 11, -1], value = None, inplace=True)"
      ],
      "execution_count": null,
      "outputs": []
    },
    {
      "cell_type": "code",
      "metadata": {
        "id": "Qffqpl-Difim",
        "colab_type": "code",
        "colab": {
          "base_uri": "https://localhost:8080/",
          "height": 221
        },
        "outputId": "64009101-56d2-4c9e-bea6-fb499a42ae49"
      },
      "source": [
        "data.Age.fillna(data['Age'].median())"
      ],
      "execution_count": null,
      "outputs": [
        {
          "output_type": "execute_result",
          "data": {
            "text/plain": [
              "0       37\n",
              "1       44\n",
              "2       32\n",
              "3       31\n",
              "4       31\n",
              "        ..\n",
              "1254    26\n",
              "1255    32\n",
              "1256    34\n",
              "1257    46\n",
              "1258    25\n",
              "Name: Age, Length: 1259, dtype: int64"
            ]
          },
          "metadata": {
            "tags": []
          },
          "execution_count": 15
        }
      ]
    },
    {
      "cell_type": "markdown",
      "metadata": {
        "id": "mA1ivbfyfwc7",
        "colab_type": "text"
      },
      "source": [
        "Agora, vamos analisar novamente a distribuição dos dados da variável *Age*. "
      ]
    },
    {
      "cell_type": "markdown",
      "metadata": {
        "id": "k74fIsSAg6K5",
        "colab_type": "text"
      },
      "source": [
        "Boxplot"
      ]
    },
    {
      "cell_type": "code",
      "metadata": {
        "id": "UXMT1hkQ3Ngh",
        "colab_type": "code",
        "colab": {
          "base_uri": "https://localhost:8080/",
          "height": 295
        },
        "outputId": "f2cfd628-5f38-410c-8e87-db89b6152ce6"
      },
      "source": [
        "sns.boxplot(x=data[\"Age\"])\n",
        "plt.title('Distribuição das idades dos respondentes')\n",
        "plt.xlabel('Idade')\n",
        "plt.show()"
      ],
      "execution_count": null,
      "outputs": [
        {
          "output_type": "display_data",
          "data": {
            "image/png": "[encoded data removed]",
            "text/plain": [
              "<Figure size 432x288 with 1 Axes>"
            ]
          },
          "metadata": {
            "tags": [],
            "needs_background": "light"
          }
        }
      ]
    },
    {
      "cell_type": "markdown",
      "metadata": {
        "id": "IyacEdvrg8C5",
        "colab_type": "text"
      },
      "source": [
        "Histograma"
      ]
    },
    {
      "cell_type": "code",
      "metadata": {
        "id": "Uaxdnago2Udl",
        "colab_type": "code",
        "colab": {
          "base_uri": "https://localhost:8080/",
          "height": 295
        },
        "outputId": "dc94a917-42d1-4d6f-f29b-0006db42a8fd"
      },
      "source": [
        "sns.distplot(data['Age'], hist=True, bins = 10)\n",
        "plt.title('Distribuição das idades dos respondentes')\n",
        "plt.xlabel('Idade')\n",
        "plt.show()"
      ],
      "execution_count": null,
      "outputs": [
        {
          "output_type": "display_data",
          "data": {
            "image/png": "[encoded data removed]",
            "text/plain": [
              "<Figure size 432x288 with 1 Axes>"
            ]
          },
          "metadata": {
            "tags": [],
            "needs_background": "light"
          }
        }
      ]
    },
    {
      "cell_type": "code",
      "metadata": {
        "id": "JZYE_qMiuSoG",
        "colab_type": "code",
        "colab": {
          "base_uri": "https://localhost:8080/",
          "height": 170
        },
        "outputId": "ed4b97a5-a526-474a-8206-2fd91f76c3d2"
      },
      "source": [
        "data['Age'].describe()"
      ],
      "execution_count": null,
      "outputs": [
        {
          "output_type": "execute_result",
          "data": {
            "text/plain": [
              "count    1259.000000\n",
              "mean       32.058777\n",
              "std         7.278999\n",
              "min        18.000000\n",
              "25%        27.000000\n",
              "50%        31.000000\n",
              "75%        36.000000\n",
              "max        72.000000\n",
              "Name: Age, dtype: float64"
            ]
          },
          "metadata": {
            "tags": []
          },
          "execution_count": 18
        }
      ]
    },
    {
      "cell_type": "markdown",
      "metadata": {
        "id": "UTo7Ml11f6Vy",
        "colab_type": "text"
      },
      "source": [
        "Teste de normalidade Shapiro-Wil"
      ]
    },
    {
      "cell_type": "code",
      "metadata": {
        "id": "uQ7UXB4AMAkM",
        "colab_type": "code",
        "colab": {
          "base_uri": "https://localhost:8080/",
          "height": 51
        },
        "outputId": "75183356-f051-4d14-db53-2b5d6dcdd48e"
      },
      "source": [
        "stat, p = sct.shapiro(data['Age'])\n",
        "print('stat=%.3f, p=%.3f' % (stat, p))\n",
        "if p > 0.05:\n",
        "\tprint('Provavelmente Normal')\n",
        "else:\n",
        "\tprint('Provavelmente não Normal')"
      ],
      "execution_count": null,
      "outputs": [
        {
          "output_type": "stream",
          "text": [
            "stat=0.949, p=0.000\n",
            "Provavelmente não Normal\n"
          ],
          "name": "stdout"
        }
      ]
    },
    {
      "cell_type": "markdown",
      "metadata": {
        "id": "povfHyu9gAjq",
        "colab_type": "text"
      },
      "source": [
        "Q-Q Plot"
      ]
    },
    {
      "cell_type": "code",
      "metadata": {
        "id": "JKa4-tUHy0xw",
        "colab_type": "code",
        "colab": {
          "base_uri": "https://localhost:8080/",
          "height": 279
        },
        "outputId": "d8b3c5a9-3d74-4b41-dfbd-47bed5672a3e"
      },
      "source": [
        "sm.qqplot(data['Age'], fit=True, line=\"45\")\n",
        "plt.show()"
      ],
      "execution_count": null,
      "outputs": [
        {
          "output_type": "display_data",
          "data": {
            "image/png": "[encoded data removed]",
            "text/plain": [
              "<Figure size 432x288 with 1 Axes>"
            ]
          },
          "metadata": {
            "tags": [],
            "needs_background": "light"
          }
        }
      ]
    },
    {
      "cell_type": "markdown",
      "metadata": {
        "id": "7NhGdgOYg1vz",
        "colab_type": "text"
      },
      "source": [
        "Comparativo da média e da mediana"
      ]
    },
    {
      "cell_type": "code",
      "metadata": {
        "id": "WmmOcrpnrwO4",
        "colab_type": "code",
        "colab": {
          "base_uri": "https://localhost:8080/",
          "height": 34
        },
        "outputId": "270a13ac-3828-44b3-80af-944782e0891e"
      },
      "source": [
        "data.Age.mean() > data.Age.median()"
      ],
      "execution_count": null,
      "outputs": [
        {
          "output_type": "execute_result",
          "data": {
            "text/plain": [
              "True"
            ]
          },
          "metadata": {
            "tags": []
          },
          "execution_count": 21
        }
      ]
    },
    {
      "cell_type": "markdown",
      "metadata": {
        "id": "ix2TiTW5k_sk",
        "colab_type": "text"
      },
      "source": [
        "Agora conseguimos analisar a distribuição das idades no boxplot e histograma. Podemos ver que ele se tratam de dados assimétricos positivos ou com cauda maior à direita (podemos confirmar verificando que a média é maior que a mediana, conforme a célula acima), e que podemos rejeitar a hipótese de que os dados vêm de uma distribuição normal, devido ao *p-value* ser menor que o alfa (nível de significância de 5%), conforme teste de Shapiro-Wilk acima e a análise do Q-Q plot."
      ]
    },
    {
      "cell_type": "markdown",
      "metadata": {
        "id": "E1CQoeTPqiWA",
        "colab_type": "text"
      },
      "source": [
        "### Análise e transformações nas variáveis categóricas."
      ]
    },
    {
      "cell_type": "markdown",
      "metadata": {
        "id": "yFmj4gTshAKC",
        "colab_type": "text"
      },
      "source": [
        "Análise de quantidade de valores únicos por variável."
      ]
    },
    {
      "cell_type": "code",
      "metadata": {
        "id": "0zQEKoCUi2KA",
        "colab_type": "code",
        "colab": {
          "base_uri": "https://localhost:8080/",
          "height": 476
        },
        "outputId": "85a82c8c-511e-4e79-a754-2d4bbe268ae8"
      },
      "source": [
        "data.select_dtypes('object').apply(pd.Series.nunique, axis = 0).sort_values(ascending=False)"
      ],
      "execution_count": null,
      "outputs": [
        {
          "output_type": "execute_result",
          "data": {
            "text/plain": [
              "Timestamp                    1246\n",
              "comments                      160\n",
              "Gender                         49\n",
              "Country                        48\n",
              "state                          45\n",
              "no_employees                    6\n",
              "leave                           5\n",
              "work_interfere                  4\n",
              "mental_vs_physical              3\n",
              "wellness_program                3\n",
              "phys_health_interview           3\n",
              "benefits                        3\n",
              "seek_help                       3\n",
              "anonymity                       3\n",
              "mental_health_consequence       3\n",
              "phys_health_consequence         3\n",
              "coworkers                       3\n",
              "supervisor                      3\n",
              "mental_health_interview         3\n",
              "care_options                    3\n",
              "obs_consequence                 2\n",
              "tech_company                    2\n",
              "remote_work                     2\n",
              "treatment                       2\n",
              "family_history                  2\n",
              "self_employed                   2\n",
              "dtype: int64"
            ]
          },
          "metadata": {
            "tags": []
          },
          "execution_count": 22
        }
      ]
    },
    {
      "cell_type": "markdown",
      "metadata": {
        "id": "9BKtrkaemAGO",
        "colab_type": "text"
      },
      "source": [
        "Pode-se perceber que algumas variáveis apresentam muitos valores únicos, e que a princípio, não poderiam haver tantos, como a variável **Gender**. Vamos ver a frequência de cada valor único na variável **Gender**."
      ]
    },
    {
      "cell_type": "code",
      "metadata": {
        "id": "Y1jCViJjlvsm",
        "colab_type": "code",
        "colab": {
          "base_uri": "https://localhost:8080/",
          "height": 1000
        },
        "outputId": "725bfdd8-86c1-400d-9d80-a0e13b13f284"
      },
      "source": [
        "percent_value_counts(data, 'Gender')"
      ],
      "execution_count": null,
      "outputs": [
        {
          "output_type": "execute_result",
          "data": {
            "text/html": [
              "<div>\n",
              "<style scoped>\n",
              "    .dataframe tbody tr th:only-of-type {\n",
              "        vertical-align: middle;\n",
              "    }\n",
              "\n",
              "    .dataframe tbody tr th {\n",
              "        vertical-align: top;\n",
              "    }\n",
              "\n",
              "    .dataframe thead th {\n",
              "        text-align: right;\n",
              "    }\n",
              "</style>\n",
              "<table border=\"1\" class=\"dataframe\">\n",
              "  <thead>\n",
              "    <tr style=\"text-align: right;\">\n",
              "      <th></th>\n",
              "      <th>Total</th>\n",
              "      <th>Percent</th>\n",
              "    </tr>\n",
              "  </thead>\n",
              "  <tbody>\n",
              "    <tr>\n",
              "      <th>Male</th>\n",
              "      <td>615</td>\n",
              "      <td>48.85</td>\n",
              "    </tr>\n",
              "    <tr>\n",
              "      <th>male</th>\n",
              "      <td>206</td>\n",
              "      <td>16.36</td>\n",
              "    </tr>\n",
              "    <tr>\n",
              "      <th>Female</th>\n",
              "      <td>121</td>\n",
              "      <td>9.61</td>\n",
              "    </tr>\n",
              "    <tr>\n",
              "      <th>M</th>\n",
              "      <td>116</td>\n",
              "      <td>9.21</td>\n",
              "    </tr>\n",
              "    <tr>\n",
              "      <th>female</th>\n",
              "      <td>62</td>\n",
              "      <td>4.92</td>\n",
              "    </tr>\n",
              "    <tr>\n",
              "      <th>F</th>\n",
              "      <td>38</td>\n",
              "      <td>3.02</td>\n",
              "    </tr>\n",
              "    <tr>\n",
              "      <th>m</th>\n",
              "      <td>34</td>\n",
              "      <td>2.70</td>\n",
              "    </tr>\n",
              "    <tr>\n",
              "      <th>f</th>\n",
              "      <td>15</td>\n",
              "      <td>1.19</td>\n",
              "    </tr>\n",
              "    <tr>\n",
              "      <th>Make</th>\n",
              "      <td>4</td>\n",
              "      <td>0.32</td>\n",
              "    </tr>\n",
              "    <tr>\n",
              "      <th>Male</th>\n",
              "      <td>3</td>\n",
              "      <td>0.24</td>\n",
              "    </tr>\n",
              "    <tr>\n",
              "      <th>Woman</th>\n",
              "      <td>3</td>\n",
              "      <td>0.24</td>\n",
              "    </tr>\n",
              "    <tr>\n",
              "      <th>Man</th>\n",
              "      <td>2</td>\n",
              "      <td>0.16</td>\n",
              "    </tr>\n",
              "    <tr>\n",
              "      <th>Cis Male</th>\n",
              "      <td>2</td>\n",
              "      <td>0.16</td>\n",
              "    </tr>\n",
              "    <tr>\n",
              "      <th>Female (trans)</th>\n",
              "      <td>2</td>\n",
              "      <td>0.16</td>\n",
              "    </tr>\n",
              "    <tr>\n",
              "      <th>Female</th>\n",
              "      <td>2</td>\n",
              "      <td>0.16</td>\n",
              "    </tr>\n",
              "    <tr>\n",
              "      <th>non-binary</th>\n",
              "      <td>1</td>\n",
              "      <td>0.08</td>\n",
              "    </tr>\n",
              "    <tr>\n",
              "      <th>Cis Man</th>\n",
              "      <td>1</td>\n",
              "      <td>0.08</td>\n",
              "    </tr>\n",
              "    <tr>\n",
              "      <th>Androgyne</th>\n",
              "      <td>1</td>\n",
              "      <td>0.08</td>\n",
              "    </tr>\n",
              "    <tr>\n",
              "      <th>msle</th>\n",
              "      <td>1</td>\n",
              "      <td>0.08</td>\n",
              "    </tr>\n",
              "    <tr>\n",
              "      <th>p</th>\n",
              "      <td>1</td>\n",
              "      <td>0.08</td>\n",
              "    </tr>\n",
              "    <tr>\n",
              "      <th>Female (cis)</th>\n",
              "      <td>1</td>\n",
              "      <td>0.08</td>\n",
              "    </tr>\n",
              "    <tr>\n",
              "      <th>Agender</th>\n",
              "      <td>1</td>\n",
              "      <td>0.08</td>\n",
              "    </tr>\n",
              "    <tr>\n",
              "      <th>cis-female/femme</th>\n",
              "      <td>1</td>\n",
              "      <td>0.08</td>\n",
              "    </tr>\n",
              "    <tr>\n",
              "      <th>Neuter</th>\n",
              "      <td>1</td>\n",
              "      <td>0.08</td>\n",
              "    </tr>\n",
              "    <tr>\n",
              "      <th>A little about you</th>\n",
              "      <td>1</td>\n",
              "      <td>0.08</td>\n",
              "    </tr>\n",
              "    <tr>\n",
              "      <th>Guy (-ish) ^_^</th>\n",
              "      <td>1</td>\n",
              "      <td>0.08</td>\n",
              "    </tr>\n",
              "    <tr>\n",
              "      <th>queer/she/they</th>\n",
              "      <td>1</td>\n",
              "      <td>0.08</td>\n",
              "    </tr>\n",
              "    <tr>\n",
              "      <th>cis male</th>\n",
              "      <td>1</td>\n",
              "      <td>0.08</td>\n",
              "    </tr>\n",
              "    <tr>\n",
              "      <th>Femake</th>\n",
              "      <td>1</td>\n",
              "      <td>0.08</td>\n",
              "    </tr>\n",
              "    <tr>\n",
              "      <th>Enby</th>\n",
              "      <td>1</td>\n",
              "      <td>0.08</td>\n",
              "    </tr>\n",
              "    <tr>\n",
              "      <th>Trans-female</th>\n",
              "      <td>1</td>\n",
              "      <td>0.08</td>\n",
              "    </tr>\n",
              "    <tr>\n",
              "      <th>Cis Female</th>\n",
              "      <td>1</td>\n",
              "      <td>0.08</td>\n",
              "    </tr>\n",
              "    <tr>\n",
              "      <th>queer</th>\n",
              "      <td>1</td>\n",
              "      <td>0.08</td>\n",
              "    </tr>\n",
              "    <tr>\n",
              "      <th>male leaning androgynous</th>\n",
              "      <td>1</td>\n",
              "      <td>0.08</td>\n",
              "    </tr>\n",
              "    <tr>\n",
              "      <th>Trans woman</th>\n",
              "      <td>1</td>\n",
              "      <td>0.08</td>\n",
              "    </tr>\n",
              "    <tr>\n",
              "      <th>femail</th>\n",
              "      <td>1</td>\n",
              "      <td>0.08</td>\n",
              "    </tr>\n",
              "    <tr>\n",
              "      <th>maile</th>\n",
              "      <td>1</td>\n",
              "      <td>0.08</td>\n",
              "    </tr>\n",
              "    <tr>\n",
              "      <th>Nah</th>\n",
              "      <td>1</td>\n",
              "      <td>0.08</td>\n",
              "    </tr>\n",
              "    <tr>\n",
              "      <th>ostensibly male, unsure what that really means</th>\n",
              "      <td>1</td>\n",
              "      <td>0.08</td>\n",
              "    </tr>\n",
              "    <tr>\n",
              "      <th>Male-ish</th>\n",
              "      <td>1</td>\n",
              "      <td>0.08</td>\n",
              "    </tr>\n",
              "    <tr>\n",
              "      <th>All</th>\n",
              "      <td>1</td>\n",
              "      <td>0.08</td>\n",
              "    </tr>\n",
              "    <tr>\n",
              "      <th>Mal</th>\n",
              "      <td>1</td>\n",
              "      <td>0.08</td>\n",
              "    </tr>\n",
              "    <tr>\n",
              "      <th>Genderqueer</th>\n",
              "      <td>1</td>\n",
              "      <td>0.08</td>\n",
              "    </tr>\n",
              "    <tr>\n",
              "      <th>Malr</th>\n",
              "      <td>1</td>\n",
              "      <td>0.08</td>\n",
              "    </tr>\n",
              "    <tr>\n",
              "      <th>fluid</th>\n",
              "      <td>1</td>\n",
              "      <td>0.08</td>\n",
              "    </tr>\n",
              "    <tr>\n",
              "      <th>something kinda male?</th>\n",
              "      <td>1</td>\n",
              "      <td>0.08</td>\n",
              "    </tr>\n",
              "    <tr>\n",
              "      <th>Mail</th>\n",
              "      <td>1</td>\n",
              "      <td>0.08</td>\n",
              "    </tr>\n",
              "    <tr>\n",
              "      <th>woman</th>\n",
              "      <td>1</td>\n",
              "      <td>0.08</td>\n",
              "    </tr>\n",
              "    <tr>\n",
              "      <th>Male (CIS)</th>\n",
              "      <td>1</td>\n",
              "      <td>0.08</td>\n",
              "    </tr>\n",
              "  </tbody>\n",
              "</table>\n",
              "</div>"
            ],
            "text/plain": [
              "                                                Total  Percent\n",
              "Male                                              615    48.85\n",
              "male                                              206    16.36\n",
              "Female                                            121     9.61\n",
              "M                                                 116     9.21\n",
              "female                                             62     4.92\n",
              "F                                                  38     3.02\n",
              "m                                                  34     2.70\n",
              "f                                                  15     1.19\n",
              "Make                                                4     0.32\n",
              "Male                                                3     0.24\n",
              "Woman                                               3     0.24\n",
              "Man                                                 2     0.16\n",
              "Cis Male                                            2     0.16\n",
              "Female (trans)                                      2     0.16\n",
              "Female                                              2     0.16\n",
              "non-binary                                          1     0.08\n",
              "Cis Man                                             1     0.08\n",
              "Androgyne                                           1     0.08\n",
              "msle                                                1     0.08\n",
              "p                                                   1     0.08\n",
              "Female (cis)                                        1     0.08\n",
              "Agender                                             1     0.08\n",
              "cis-female/femme                                    1     0.08\n",
              "Neuter                                              1     0.08\n",
              "A little about you                                  1     0.08\n",
              "Guy (-ish) ^_^                                      1     0.08\n",
              "queer/she/they                                      1     0.08\n",
              "cis male                                            1     0.08\n",
              "Femake                                              1     0.08\n",
              "Enby                                                1     0.08\n",
              "Trans-female                                        1     0.08\n",
              "Cis Female                                          1     0.08\n",
              "queer                                               1     0.08\n",
              "male leaning androgynous                            1     0.08\n",
              "Trans woman                                         1     0.08\n",
              "femail                                              1     0.08\n",
              "maile                                               1     0.08\n",
              "Nah                                                 1     0.08\n",
              "ostensibly male, unsure what that really means      1     0.08\n",
              "Male-ish                                            1     0.08\n",
              "All                                                 1     0.08\n",
              "Mal                                                 1     0.08\n",
              "Genderqueer                                         1     0.08\n",
              "Malr                                                1     0.08\n",
              "fluid                                               1     0.08\n",
              "something kinda male?                               1     0.08\n",
              "Mail                                                1     0.08\n",
              "woman                                               1     0.08\n",
              "Male (CIS)                                          1     0.08"
            ]
          },
          "metadata": {
            "tags": []
          },
          "execution_count": 23
        }
      ]
    },
    {
      "cell_type": "markdown",
      "metadata": {
        "id": "NM5VBupsm7TW",
        "colab_type": "text"
      },
      "source": [
        "Podemos perceber que existem diversos gêneros, porém muitos são erros de escrita ou diferentes formas de se referir ao mesmo gênero. Dessa forma, para esta análise, vamos organizar esta variável considerando 3 diferentes tipos: *Male*, *Female* e *Others*. \n",
        "\n",
        "As divisões terão *Male*, que irá conter as pessoas que se identificam como homem-cis, *Female* como mulher-cis e *Others* contendo as pessoas que se identificaram com as demais minorias de gênero."
      ]
    },
    {
      "cell_type": "markdown",
      "metadata": {
        "id": "XfHSj9CAhMgi",
        "colab_type": "text"
      },
      "source": [
        "Valores únicos da variável *Gender*."
      ]
    },
    {
      "cell_type": "code",
      "metadata": {
        "id": "VTaVDHzxSu_w",
        "colab_type": "code",
        "colab": {
          "base_uri": "https://localhost:8080/",
          "height": 187
        },
        "outputId": "fae9e039-baf0-4db6-a450-541b21cf9d03"
      },
      "source": [
        "data['Gender'].unique()"
      ],
      "execution_count": null,
      "outputs": [
        {
          "output_type": "execute_result",
          "data": {
            "text/plain": [
              "array(['Female', 'M', 'Male', 'male', 'female', 'm', 'Male-ish', 'maile',\n",
              "       'Trans-female', 'Cis Female', 'F', 'something kinda male?',\n",
              "       'Cis Male', 'Woman', 'f', 'Mal', 'Male (CIS)', 'queer/she/they',\n",
              "       'non-binary', 'Femake', 'woman', 'Make', 'Nah', 'All', 'Enby',\n",
              "       'fluid', 'Genderqueer', 'Female ', 'Androgyne', 'Agender',\n",
              "       'cis-female/femme', 'Guy (-ish) ^_^', 'male leaning androgynous',\n",
              "       'Male ', 'Man', 'Trans woman', 'msle', 'Neuter', 'Female (trans)',\n",
              "       'queer', 'Female (cis)', 'Mail', 'cis male', 'A little about you',\n",
              "       'Malr', 'p', 'femail', 'Cis Man',\n",
              "       'ostensibly male, unsure what that really means'], dtype=object)"
            ]
          },
          "metadata": {
            "tags": []
          },
          "execution_count": 24
        }
      ]
    },
    {
      "cell_type": "markdown",
      "metadata": {
        "id": "qtqkAzCNhS8Z",
        "colab_type": "text"
      },
      "source": [
        "Substituição dos valores únicos pelos seus representantes conforme divisão mencionada acima."
      ]
    },
    {
      "cell_type": "code",
      "metadata": {
        "id": "2CHjoRB9s34V",
        "colab_type": "code",
        "colab": {}
      },
      "source": [
        "data.Gender.replace(to_replace=['M', 'Male', 'male', 'm', 'Male-ish', 'maile',\n",
        "       'something kinda male?', 'Cis Male', 'Mal', 'Male (CIS)', 'Make', 'Guy (-ish) ^_^', \n",
        "       'Male ', 'Man', 'msle', 'Mail', 'cis male',\n",
        "       'Malr', 'Cis Man', 'ostensibly male, unsure what that really means'], value='Male', inplace=True)\n",
        "data.Gender.replace(to_replace=['Female', 'female', 'Cis Female', 'F', 'Woman', 'f', 'Femake', 'woman', 'Female ',\n",
        "                               'cis-female/femme', 'Female (cis)', 'femail'], value='Female', inplace=True)\n",
        "data.Gender.replace(to_replace=['Trans-female', 'queer/she/they',\n",
        "       'non-binary', 'Nah', 'All', 'Enby',\n",
        "       'fluid', 'Genderqueer', 'Androgyne', 'Agender',\n",
        "       'male leaning androgynous', 'Trans woman', 'Neuter', 'Female (trans)',\n",
        "       'queer', 'A little about you', 'p'], value='Others', inplace=True)"
      ],
      "execution_count": null,
      "outputs": []
    },
    {
      "cell_type": "markdown",
      "metadata": {
        "id": "Mtzx3usghbyh",
        "colab_type": "text"
      },
      "source": [
        "Visualização da distribuição dos valores da variável *Gender* após a transformação."
      ]
    },
    {
      "cell_type": "code",
      "metadata": {
        "id": "C1NGcR3Oxg2Y",
        "colab_type": "code",
        "colab": {
          "base_uri": "https://localhost:8080/",
          "height": 385
        },
        "outputId": "a1e22b87-9c5c-49ae-b47e-345ea99e64c3"
      },
      "source": [
        "sns.catplot(x=\"Gender\", kind=\"count\", data=data)\n",
        "plt.title('Respondentes por gênero')\n",
        "plt.ylabel('Contagem')\n",
        "plt.show()"
      ],
      "execution_count": null,
      "outputs": [
        {
          "output_type": "display_data",
          "data": {
            "image/png": "[encoded data removed]",
            "text/plain": [
              "<Figure size 360x360 with 1 Axes>"
            ]
          },
          "metadata": {
            "tags": [],
            "needs_background": "light"
          }
        }
      ]
    },
    {
      "cell_type": "markdown",
      "metadata": {
        "id": "Cz5ctZJVVwpQ",
        "colab_type": "text"
      },
      "source": [
        "Agora que temos organizado a variável **Gender**, vamos dar uma olhada nas demais variáveis pertinentes as perguntas que queremos responder: **family_history**, **wellness_program**, **treatment**, **benefits** e **no_employees**."
      ]
    },
    {
      "cell_type": "code",
      "metadata": {
        "id": "buhgYjlow7Ag",
        "colab_type": "code",
        "colab": {
          "base_uri": "https://localhost:8080/",
          "height": 235
        },
        "outputId": "3d3934a2-739c-4add-9b71-f76ae18b02cf"
      },
      "source": [
        "percent_value_counts(data, 'no_employees')"
      ],
      "execution_count": null,
      "outputs": [
        {
          "output_type": "execute_result",
          "data": {
            "text/html": [
              "<div>\n",
              "<style scoped>\n",
              "    .dataframe tbody tr th:only-of-type {\n",
              "        vertical-align: middle;\n",
              "    }\n",
              "\n",
              "    .dataframe tbody tr th {\n",
              "        vertical-align: top;\n",
              "    }\n",
              "\n",
              "    .dataframe thead th {\n",
              "        text-align: right;\n",
              "    }\n",
              "</style>\n",
              "<table border=\"1\" class=\"dataframe\">\n",
              "  <thead>\n",
              "    <tr style=\"text-align: right;\">\n",
              "      <th></th>\n",
              "      <th>Total</th>\n",
              "      <th>Percent</th>\n",
              "    </tr>\n",
              "  </thead>\n",
              "  <tbody>\n",
              "    <tr>\n",
              "      <th>6-25</th>\n",
              "      <td>290</td>\n",
              "      <td>23.03</td>\n",
              "    </tr>\n",
              "    <tr>\n",
              "      <th>26-100</th>\n",
              "      <td>289</td>\n",
              "      <td>22.95</td>\n",
              "    </tr>\n",
              "    <tr>\n",
              "      <th>More than 1000</th>\n",
              "      <td>282</td>\n",
              "      <td>22.40</td>\n",
              "    </tr>\n",
              "    <tr>\n",
              "      <th>100-500</th>\n",
              "      <td>176</td>\n",
              "      <td>13.98</td>\n",
              "    </tr>\n",
              "    <tr>\n",
              "      <th>1-5</th>\n",
              "      <td>162</td>\n",
              "      <td>12.87</td>\n",
              "    </tr>\n",
              "    <tr>\n",
              "      <th>500-1000</th>\n",
              "      <td>60</td>\n",
              "      <td>4.77</td>\n",
              "    </tr>\n",
              "  </tbody>\n",
              "</table>\n",
              "</div>"
            ],
            "text/plain": [
              "                Total  Percent\n",
              "6-25              290    23.03\n",
              "26-100            289    22.95\n",
              "More than 1000    282    22.40\n",
              "100-500           176    13.98\n",
              "1-5               162    12.87\n",
              "500-1000           60     4.77"
            ]
          },
          "metadata": {
            "tags": []
          },
          "execution_count": 27
        }
      ]
    },
    {
      "cell_type": "code",
      "metadata": {
        "id": "jqJXVvFjMGst",
        "colab_type": "code",
        "colab": {
          "base_uri": "https://localhost:8080/",
          "height": 111
        },
        "outputId": "f0539bfd-68ff-4aff-a996-b17c1da1a034"
      },
      "source": [
        "percent_value_counts(data, 'family_history')"
      ],
      "execution_count": null,
      "outputs": [
        {
          "output_type": "execute_result",
          "data": {
            "text/html": [
              "<div>\n",
              "<style scoped>\n",
              "    .dataframe tbody tr th:only-of-type {\n",
              "        vertical-align: middle;\n",
              "    }\n",
              "\n",
              "    .dataframe tbody tr th {\n",
              "        vertical-align: top;\n",
              "    }\n",
              "\n",
              "    .dataframe thead th {\n",
              "        text-align: right;\n",
              "    }\n",
              "</style>\n",
              "<table border=\"1\" class=\"dataframe\">\n",
              "  <thead>\n",
              "    <tr style=\"text-align: right;\">\n",
              "      <th></th>\n",
              "      <th>Total</th>\n",
              "      <th>Percent</th>\n",
              "    </tr>\n",
              "  </thead>\n",
              "  <tbody>\n",
              "    <tr>\n",
              "      <th>No</th>\n",
              "      <td>767</td>\n",
              "      <td>60.92</td>\n",
              "    </tr>\n",
              "    <tr>\n",
              "      <th>Yes</th>\n",
              "      <td>492</td>\n",
              "      <td>39.08</td>\n",
              "    </tr>\n",
              "  </tbody>\n",
              "</table>\n",
              "</div>"
            ],
            "text/plain": [
              "     Total  Percent\n",
              "No     767    60.92\n",
              "Yes    492    39.08"
            ]
          },
          "metadata": {
            "tags": []
          },
          "execution_count": 28
        }
      ]
    },
    {
      "cell_type": "code",
      "metadata": {
        "id": "0OcTs2RNML0g",
        "colab_type": "code",
        "colab": {
          "base_uri": "https://localhost:8080/",
          "height": 142
        },
        "outputId": "aed471d0-5f06-4697-9ab2-f355bc722305"
      },
      "source": [
        "percent_value_counts(data, 'wellness_program')"
      ],
      "execution_count": null,
      "outputs": [
        {
          "output_type": "execute_result",
          "data": {
            "text/html": [
              "<div>\n",
              "<style scoped>\n",
              "    .dataframe tbody tr th:only-of-type {\n",
              "        vertical-align: middle;\n",
              "    }\n",
              "\n",
              "    .dataframe tbody tr th {\n",
              "        vertical-align: top;\n",
              "    }\n",
              "\n",
              "    .dataframe thead th {\n",
              "        text-align: right;\n",
              "    }\n",
              "</style>\n",
              "<table border=\"1\" class=\"dataframe\">\n",
              "  <thead>\n",
              "    <tr style=\"text-align: right;\">\n",
              "      <th></th>\n",
              "      <th>Total</th>\n",
              "      <th>Percent</th>\n",
              "    </tr>\n",
              "  </thead>\n",
              "  <tbody>\n",
              "    <tr>\n",
              "      <th>No</th>\n",
              "      <td>842</td>\n",
              "      <td>66.88</td>\n",
              "    </tr>\n",
              "    <tr>\n",
              "      <th>Yes</th>\n",
              "      <td>229</td>\n",
              "      <td>18.19</td>\n",
              "    </tr>\n",
              "    <tr>\n",
              "      <th>Don't know</th>\n",
              "      <td>188</td>\n",
              "      <td>14.93</td>\n",
              "    </tr>\n",
              "  </tbody>\n",
              "</table>\n",
              "</div>"
            ],
            "text/plain": [
              "            Total  Percent\n",
              "No            842    66.88\n",
              "Yes           229    18.19\n",
              "Don't know    188    14.93"
            ]
          },
          "metadata": {
            "tags": []
          },
          "execution_count": 29
        }
      ]
    },
    {
      "cell_type": "code",
      "metadata": {
        "id": "PuvgPqA2MPlg",
        "colab_type": "code",
        "colab": {
          "base_uri": "https://localhost:8080/",
          "height": 111
        },
        "outputId": "ed2e541e-1529-478a-f960-3e8695142d13"
      },
      "source": [
        "percent_value_counts(data, 'treatment')"
      ],
      "execution_count": null,
      "outputs": [
        {
          "output_type": "execute_result",
          "data": {
            "text/html": [
              "<div>\n",
              "<style scoped>\n",
              "    .dataframe tbody tr th:only-of-type {\n",
              "        vertical-align: middle;\n",
              "    }\n",
              "\n",
              "    .dataframe tbody tr th {\n",
              "        vertical-align: top;\n",
              "    }\n",
              "\n",
              "    .dataframe thead th {\n",
              "        text-align: right;\n",
              "    }\n",
              "</style>\n",
              "<table border=\"1\" class=\"dataframe\">\n",
              "  <thead>\n",
              "    <tr style=\"text-align: right;\">\n",
              "      <th></th>\n",
              "      <th>Total</th>\n",
              "      <th>Percent</th>\n",
              "    </tr>\n",
              "  </thead>\n",
              "  <tbody>\n",
              "    <tr>\n",
              "      <th>Yes</th>\n",
              "      <td>637</td>\n",
              "      <td>50.6</td>\n",
              "    </tr>\n",
              "    <tr>\n",
              "      <th>No</th>\n",
              "      <td>622</td>\n",
              "      <td>49.4</td>\n",
              "    </tr>\n",
              "  </tbody>\n",
              "</table>\n",
              "</div>"
            ],
            "text/plain": [
              "     Total  Percent\n",
              "Yes    637     50.6\n",
              "No     622     49.4"
            ]
          },
          "metadata": {
            "tags": []
          },
          "execution_count": 30
        }
      ]
    },
    {
      "cell_type": "code",
      "metadata": {
        "id": "jKAgjvmwJg4W",
        "colab_type": "code",
        "colab": {
          "base_uri": "https://localhost:8080/",
          "height": 142
        },
        "outputId": "b06ac980-93d5-42db-e5dd-408f180cc153"
      },
      "source": [
        "percent_value_counts(data, 'benefits')"
      ],
      "execution_count": null,
      "outputs": [
        {
          "output_type": "execute_result",
          "data": {
            "text/html": [
              "<div>\n",
              "<style scoped>\n",
              "    .dataframe tbody tr th:only-of-type {\n",
              "        vertical-align: middle;\n",
              "    }\n",
              "\n",
              "    .dataframe tbody tr th {\n",
              "        vertical-align: top;\n",
              "    }\n",
              "\n",
              "    .dataframe thead th {\n",
              "        text-align: right;\n",
              "    }\n",
              "</style>\n",
              "<table border=\"1\" class=\"dataframe\">\n",
              "  <thead>\n",
              "    <tr style=\"text-align: right;\">\n",
              "      <th></th>\n",
              "      <th>Total</th>\n",
              "      <th>Percent</th>\n",
              "    </tr>\n",
              "  </thead>\n",
              "  <tbody>\n",
              "    <tr>\n",
              "      <th>Yes</th>\n",
              "      <td>477</td>\n",
              "      <td>37.89</td>\n",
              "    </tr>\n",
              "    <tr>\n",
              "      <th>Don't know</th>\n",
              "      <td>408</td>\n",
              "      <td>32.41</td>\n",
              "    </tr>\n",
              "    <tr>\n",
              "      <th>No</th>\n",
              "      <td>374</td>\n",
              "      <td>29.71</td>\n",
              "    </tr>\n",
              "  </tbody>\n",
              "</table>\n",
              "</div>"
            ],
            "text/plain": [
              "            Total  Percent\n",
              "Yes           477    37.89\n",
              "Don't know    408    32.41\n",
              "No            374    29.71"
            ]
          },
          "metadata": {
            "tags": []
          },
          "execution_count": 31
        }
      ]
    },
    {
      "cell_type": "markdown",
      "metadata": {
        "id": "36WGaE4htU01",
        "colab_type": "text"
      },
      "source": [
        "As demais variáveis apresentam consistência e valores mais limpos."
      ]
    },
    {
      "cell_type": "markdown",
      "metadata": {
        "id": "_VDCpwHytWOx",
        "colab_type": "text"
      },
      "source": [
        "## **Análise das hipóteses e perguntas levantadas**"
      ]
    },
    {
      "cell_type": "markdown",
      "metadata": {
        "id": "0NS17P42MdjU",
        "colab_type": "text"
      },
      "source": [
        "Vamos começar então respondendo a primeira pergunta levantada: \n",
        "\n",
        "- Existe alguma associação entre profissionais que buscaram tratamento e o gênero no qual se identificam?\n",
        "\n",
        "Nesse caso, **nossa hipótese nula** é: *não existe uma associação*."
      ]
    },
    {
      "cell_type": "code",
      "metadata": {
        "id": "jECvD51-MYMl",
        "colab_type": "code",
        "colab": {
          "base_uri": "https://localhost:8080/",
          "height": 385
        },
        "outputId": "55c7c795-312f-4e4e-c195-396a70949952"
      },
      "source": [
        "ax = sns.catplot(x=\"Gender\", hue=\"treatment\", kind=\"count\", data=data)\n",
        "plt.title('Respondentes por gênero e busca por tratamento')\n",
        "plt.show()"
      ],
      "execution_count": null,
      "outputs": [
        {
          "output_type": "display_data",
          "data": {
            "image/png": "[encoded data removed]",
            "text/plain": [
              "<Figure size 417.875x360 with 1 Axes>"
            ]
          },
          "metadata": {
            "tags": [],
            "needs_background": "light"
          }
        }
      ]
    },
    {
      "cell_type": "code",
      "metadata": {
        "id": "W1lqtOmBpAG8",
        "colab_type": "code",
        "colab": {
          "base_uri": "https://localhost:8080/",
          "height": 142
        },
        "outputId": "d70f9843-642c-440c-eae4-3e38370c4d78"
      },
      "source": [
        "table_t_g = pd.pivot_table(data, index = ['treatment'], columns = ['Gender'], aggfunc = 'size') # tabela de contingência\n",
        "table_t_g"
      ],
      "execution_count": null,
      "outputs": [
        {
          "output_type": "execute_result",
          "data": {
            "text/html": [
              "<div>\n",
              "<style scoped>\n",
              "    .dataframe tbody tr th:only-of-type {\n",
              "        vertical-align: middle;\n",
              "    }\n",
              "\n",
              "    .dataframe tbody tr th {\n",
              "        vertical-align: top;\n",
              "    }\n",
              "\n",
              "    .dataframe thead th {\n",
              "        text-align: right;\n",
              "    }\n",
              "</style>\n",
              "<table border=\"1\" class=\"dataframe\">\n",
              "  <thead>\n",
              "    <tr style=\"text-align: right;\">\n",
              "      <th>Gender</th>\n",
              "      <th>Female</th>\n",
              "      <th>Male</th>\n",
              "      <th>Others</th>\n",
              "    </tr>\n",
              "    <tr>\n",
              "      <th>treatment</th>\n",
              "      <th></th>\n",
              "      <th></th>\n",
              "      <th></th>\n",
              "    </tr>\n",
              "  </thead>\n",
              "  <tbody>\n",
              "    <tr>\n",
              "      <th>No</th>\n",
              "      <td>77</td>\n",
              "      <td>542</td>\n",
              "      <td>3</td>\n",
              "    </tr>\n",
              "    <tr>\n",
              "      <th>Yes</th>\n",
              "      <td>170</td>\n",
              "      <td>452</td>\n",
              "      <td>15</td>\n",
              "    </tr>\n",
              "  </tbody>\n",
              "</table>\n",
              "</div>"
            ],
            "text/plain": [
              "Gender     Female  Male  Others\n",
              "treatment                      \n",
              "No             77   542       3\n",
              "Yes           170   452      15"
            ]
          },
          "metadata": {
            "tags": []
          },
          "execution_count": 33
        }
      ]
    },
    {
      "cell_type": "markdown",
      "metadata": {
        "id": "KP_sgsm2aVUl",
        "colab_type": "text"
      },
      "source": [
        "Teste de hipótese Pearson's Chi-Square:"
      ]
    },
    {
      "cell_type": "code",
      "metadata": {
        "id": "qsVWDnLtURGc",
        "colab_type": "code",
        "colab": {
          "base_uri": "https://localhost:8080/",
          "height": 34
        },
        "outputId": "470dfcc6-0f35-4ac1-efaa-54b7f6bac754"
      },
      "source": [
        "stat_t_g, p_t_g, dof_t_g, expected_t_g = sct.chi2_contingency(table_t_g)\n",
        "\n",
        "alpha = 0.05\n",
        "if p_t_g <= alpha:\n",
        "\tprint('Dependente (rejeitar H0)')\n",
        "else:\n",
        "\tprint('Independente (falha em rejeitar H0)')"
      ],
      "execution_count": null,
      "outputs": [
        {
          "output_type": "stream",
          "text": [
            "Dependente (rejeitar H0)\n"
          ],
          "name": "stdout"
        }
      ]
    },
    {
      "cell_type": "markdown",
      "metadata": {
        "id": "1vc2E5iKPlIo",
        "colab_type": "text"
      },
      "source": [
        "Como podemos ver, a quantidade de pessoas que se identificaram com os gêneros *Female* e *Others* tiveram maior frequência de respondentes que já buscaram tratamento, em comparação com os respondentes do gênero *Male*. \n",
        "\n",
        "Além disso, ao realizarmos o teste de Pearson's Chi-Square, de indepedência das variáveis categóricas, podemos perceber que foi rejeitado, e que portanto, sim, **existe uma associação entre o gênero e a busca por tratamento de saúde mental**.\n",
        "\n",
        "\n",
        "\n",
        "---\n",
        "A segunda pergunta que devemos responder é:\n",
        "\n",
        "- Existe uma relação entre as pessoas colaboradoras que buscaram tratamento e que possuem histórico familiar de doenças mentais?\n",
        "\n",
        "Nesse caso, **nossa hipótese nula** é: *não existe uma associação*."
      ]
    },
    {
      "cell_type": "code",
      "metadata": {
        "id": "gvcCiXLMSFJ7",
        "colab_type": "code",
        "colab": {
          "base_uri": "https://localhost:8080/",
          "height": 385
        },
        "outputId": "5ab67d7b-ce5d-48b1-ef44-5adf889bc5a9"
      },
      "source": [
        "ax = sns.catplot(x=\"family_history\", hue=\"treatment\", kind=\"count\", data=data)\n",
        "plt.title('Respondentes por histórico familiar e busca por tratamento')\n",
        "plt.show()"
      ],
      "execution_count": null,
      "outputs": [
        {
          "output_type": "display_data",
          "data": {
            "image/png": "[encoded data removed]",
            "text/plain": [
              "<Figure size 417.875x360 with 1 Axes>"
            ]
          },
          "metadata": {
            "tags": [],
            "needs_background": "light"
          }
        }
      ]
    },
    {
      "cell_type": "code",
      "metadata": {
        "id": "I2RkCQkQ6LeE",
        "colab_type": "code",
        "colab": {
          "base_uri": "https://localhost:8080/",
          "height": 142
        },
        "outputId": "6b8707b8-beb9-4841-8ad9-da8e59da082a"
      },
      "source": [
        "table_t_f = pd.pivot_table(data, index = ['treatment'], columns = ['family_history'], aggfunc = 'size') # tabela de contingência\n",
        "table_t_f"
      ],
      "execution_count": null,
      "outputs": [
        {
          "output_type": "execute_result",
          "data": {
            "text/html": [
              "<div>\n",
              "<style scoped>\n",
              "    .dataframe tbody tr th:only-of-type {\n",
              "        vertical-align: middle;\n",
              "    }\n",
              "\n",
              "    .dataframe tbody tr th {\n",
              "        vertical-align: top;\n",
              "    }\n",
              "\n",
              "    .dataframe thead th {\n",
              "        text-align: right;\n",
              "    }\n",
              "</style>\n",
              "<table border=\"1\" class=\"dataframe\">\n",
              "  <thead>\n",
              "    <tr style=\"text-align: right;\">\n",
              "      <th>family_history</th>\n",
              "      <th>No</th>\n",
              "      <th>Yes</th>\n",
              "    </tr>\n",
              "    <tr>\n",
              "      <th>treatment</th>\n",
              "      <th></th>\n",
              "      <th></th>\n",
              "    </tr>\n",
              "  </thead>\n",
              "  <tbody>\n",
              "    <tr>\n",
              "      <th>No</th>\n",
              "      <td>495</td>\n",
              "      <td>127</td>\n",
              "    </tr>\n",
              "    <tr>\n",
              "      <th>Yes</th>\n",
              "      <td>272</td>\n",
              "      <td>365</td>\n",
              "    </tr>\n",
              "  </tbody>\n",
              "</table>\n",
              "</div>"
            ],
            "text/plain": [
              "family_history   No  Yes\n",
              "treatment               \n",
              "No              495  127\n",
              "Yes             272  365"
            ]
          },
          "metadata": {
            "tags": []
          },
          "execution_count": 36
        }
      ]
    },
    {
      "cell_type": "markdown",
      "metadata": {
        "id": "8mafcwFpb4m7",
        "colab_type": "text"
      },
      "source": [
        "Teste de hipótese Pearson's Chi-Square:"
      ]
    },
    {
      "cell_type": "code",
      "metadata": {
        "id": "mmWO-Z-t6Poq",
        "colab_type": "code",
        "colab": {
          "base_uri": "https://localhost:8080/",
          "height": 34
        },
        "outputId": "533929c9-5bd2-4f5a-baf6-7f3dd8fc9871"
      },
      "source": [
        "stat_t_f, p_t_f, dof_t_f, expected_t_f = sct.chi2_contingency(table_t_f)\n",
        "\n",
        "alpha = 0.05\n",
        "if p_t_f <= alpha:\n",
        "\tprint('Dependente (rejeitar H0)')\n",
        "else:\n",
        "\tprint('Independente (falha em rejeitar H0)')"
      ],
      "execution_count": null,
      "outputs": [
        {
          "output_type": "stream",
          "text": [
            "Dependente (rejeitar H0)\n"
          ],
          "name": "stdout"
        }
      ]
    },
    {
      "cell_type": "markdown",
      "metadata": {
        "id": "fOZEMh7_SPyM",
        "colab_type": "text"
      },
      "source": [
        "Podemos perceber a notável diferença na frequência, entre os respondentes que disseram ter histórico na família de doenças mentais, e que já buscaram tratamento, em comparação aos que não tem histórico.\n",
        "\n",
        "E também, ao realizar o teste Pearson's Chi-Square, podemos perceber que foi rejeitado, e que portanto, sim, **existe uma associação entre histórico familiar de doença mental e a busca por tratamento de saúde mental**.\n",
        "\n",
        "\n",
        "\n",
        "---\n",
        "Vamos olhar agora para a nossa terceira questão:\n",
        "\n",
        "- O tamanho da empresa influencia na frequência de pessoas colaboradoras que buscaram tratamento para saúde mental?\n",
        "\n",
        "Nesse caso, **nossa hipótese nula** é: *o tamanho da empresa não influencia na frequência de funcionários que buscaram tratamento*.\n"
      ]
    },
    {
      "cell_type": "code",
      "metadata": {
        "id": "ny23PgGnSOJg",
        "colab_type": "code",
        "colab": {
          "base_uri": "https://localhost:8080/",
          "height": 438
        },
        "outputId": "662910a7-3a9d-4768-d775-3d4c84f194eb"
      },
      "source": [
        "ax = sns.catplot(x=\"no_employees\", hue=\"treatment\", kind=\"count\", data=data)\n",
        "plt.title('Respondentes por nº de funcionários e busca por tratamento')\n",
        "ax.set_xticklabels(rotation=45)\n",
        "plt.show()"
      ],
      "execution_count": null,
      "outputs": [
        {
          "output_type": "display_data",
          "data": {
            "image/png": "[encoded data removed]",
            "text/plain": [
              "<Figure size 417.875x360 with 1 Axes>"
            ]
          },
          "metadata": {
            "tags": [],
            "needs_background": "light"
          }
        }
      ]
    },
    {
      "cell_type": "code",
      "metadata": {
        "id": "ash2gmtKxbze",
        "colab_type": "code",
        "colab": {
          "base_uri": "https://localhost:8080/",
          "height": 142
        },
        "outputId": "4629be39-5346-498a-b72d-3e66cf6ff342"
      },
      "source": [
        "table_t_n = pd.pivot_table(data, index = ['treatment'], columns = ['no_employees'], aggfunc = 'size') # tabela de contingência\n",
        "table_t_n"
      ],
      "execution_count": null,
      "outputs": [
        {
          "output_type": "execute_result",
          "data": {
            "text/html": [
              "<div>\n",
              "<style scoped>\n",
              "    .dataframe tbody tr th:only-of-type {\n",
              "        vertical-align: middle;\n",
              "    }\n",
              "\n",
              "    .dataframe tbody tr th {\n",
              "        vertical-align: top;\n",
              "    }\n",
              "\n",
              "    .dataframe thead th {\n",
              "        text-align: right;\n",
              "    }\n",
              "</style>\n",
              "<table border=\"1\" class=\"dataframe\">\n",
              "  <thead>\n",
              "    <tr style=\"text-align: right;\">\n",
              "      <th>no_employees</th>\n",
              "      <th>1-5</th>\n",
              "      <th>100-500</th>\n",
              "      <th>26-100</th>\n",
              "      <th>500-1000</th>\n",
              "      <th>6-25</th>\n",
              "      <th>More than 1000</th>\n",
              "    </tr>\n",
              "    <tr>\n",
              "      <th>treatment</th>\n",
              "      <th></th>\n",
              "      <th></th>\n",
              "      <th></th>\n",
              "      <th></th>\n",
              "      <th></th>\n",
              "      <th></th>\n",
              "    </tr>\n",
              "  </thead>\n",
              "  <tbody>\n",
              "    <tr>\n",
              "      <th>No</th>\n",
              "      <td>71</td>\n",
              "      <td>81</td>\n",
              "      <td>139</td>\n",
              "      <td>33</td>\n",
              "      <td>162</td>\n",
              "      <td>136</td>\n",
              "    </tr>\n",
              "    <tr>\n",
              "      <th>Yes</th>\n",
              "      <td>91</td>\n",
              "      <td>95</td>\n",
              "      <td>150</td>\n",
              "      <td>27</td>\n",
              "      <td>128</td>\n",
              "      <td>146</td>\n",
              "    </tr>\n",
              "  </tbody>\n",
              "</table>\n",
              "</div>"
            ],
            "text/plain": [
              "no_employees  1-5  100-500  26-100  500-1000  6-25  More than 1000\n",
              "treatment                                                         \n",
              "No             71       81     139        33   162             136\n",
              "Yes            91       95     150        27   128             146"
            ]
          },
          "metadata": {
            "tags": []
          },
          "execution_count": 39
        }
      ]
    },
    {
      "cell_type": "markdown",
      "metadata": {
        "id": "LCFAk8ABb8Sr",
        "colab_type": "text"
      },
      "source": [
        "Teste de hipótese Pearson's Chi-Square:"
      ]
    },
    {
      "cell_type": "code",
      "metadata": {
        "id": "xu1g2a1axhKj",
        "colab_type": "code",
        "colab": {
          "base_uri": "https://localhost:8080/",
          "height": 34
        },
        "outputId": "ddb933e6-d73c-4a6d-8e33-9dc96c8a6f2d"
      },
      "source": [
        "stat_t_n, p_t_n, dof_t_n, expected_t_n = sct.chi2_contingency(table_t_n)\n",
        "\n",
        "alpha = 0.05\n",
        "if p_t_n <= alpha:\n",
        "\tprint('Dependente (rejeitar H0)')\n",
        "else:\n",
        "\tprint('Independente (falha em rejeitar H0)')"
      ],
      "execution_count": null,
      "outputs": [
        {
          "output_type": "stream",
          "text": [
            "Independente (falha em rejeitar H0)\n"
          ],
          "name": "stdout"
        }
      ]
    },
    {
      "cell_type": "markdown",
      "metadata": {
        "id": "hklouS89UJYS",
        "colab_type": "text"
      },
      "source": [
        "O que podemos perceber é que, entre os respondentes que a empresa tem de *6-25* e *500-1000* funcionários, a parte maior são de pessoas que nunca buscaram tratamento. As demais, todas tiveram mais de 50% dos respondentes que já buscaram tratamento para doenças mentais.\n",
        "\n",
        "E junto a isso, o teste de Pearson's Chi-Square também mostra que **não há dependência entre as duas variáveis, e portanto, não podemos rejeitar a hipótese nula levantada**.\n",
        "\n",
        "\n",
        "---\n",
        "\n",
        "A nossa quarta questão é:\n",
        "\n",
        "- As empresas que possuem programas de bem-estar tem uma frequência menor de respondentes que buscaram tratamento para doenças mentais?\n",
        "\n",
        "Sendo então, nossa hipótese nula: *não existe uma associação entre as variáveis*"
      ]
    },
    {
      "cell_type": "code",
      "metadata": {
        "id": "4SPDyDTETDBY",
        "colab_type": "code",
        "colab": {
          "base_uri": "https://localhost:8080/",
          "height": 385
        },
        "outputId": "f9cd2cf6-33d9-4f87-8d1b-3bc438d81bfb"
      },
      "source": [
        "ax = sns.catplot(x=\"wellness_program\", hue=\"treatment\", kind=\"count\", data=data)\n",
        "plt.title('Respondentes por programa de bem-estar e busca por tratamento')\n",
        "plt.show()"
      ],
      "execution_count": null,
      "outputs": [
        {
          "output_type": "display_data",
          "data": {
            "image/png": "[encoded data removed]",
            "text/plain": [
              "<Figure size 417.875x360 with 1 Axes>"
            ]
          },
          "metadata": {
            "tags": [],
            "needs_background": "light"
          }
        }
      ]
    },
    {
      "cell_type": "code",
      "metadata": {
        "id": "Ul4Ywc928DzD",
        "colab_type": "code",
        "colab": {
          "base_uri": "https://localhost:8080/",
          "height": 142
        },
        "outputId": "54231051-0036-4a5e-e1bc-026cad0ab5bf"
      },
      "source": [
        "table_t_w = pd.pivot_table(data, index = ['treatment'], columns = ['wellness_program'], aggfunc = 'size') # tabela de contingência\n",
        "table_t_w"
      ],
      "execution_count": null,
      "outputs": [
        {
          "output_type": "execute_result",
          "data": {
            "text/html": [
              "<div>\n",
              "<style scoped>\n",
              "    .dataframe tbody tr th:only-of-type {\n",
              "        vertical-align: middle;\n",
              "    }\n",
              "\n",
              "    .dataframe tbody tr th {\n",
              "        vertical-align: top;\n",
              "    }\n",
              "\n",
              "    .dataframe thead th {\n",
              "        text-align: right;\n",
              "    }\n",
              "</style>\n",
              "<table border=\"1\" class=\"dataframe\">\n",
              "  <thead>\n",
              "    <tr style=\"text-align: right;\">\n",
              "      <th>wellness_program</th>\n",
              "      <th>Don't know</th>\n",
              "      <th>No</th>\n",
              "      <th>Yes</th>\n",
              "    </tr>\n",
              "    <tr>\n",
              "      <th>treatment</th>\n",
              "      <th></th>\n",
              "      <th></th>\n",
              "      <th></th>\n",
              "    </tr>\n",
              "  </thead>\n",
              "  <tbody>\n",
              "    <tr>\n",
              "      <th>No</th>\n",
              "      <td>107</td>\n",
              "      <td>422</td>\n",
              "      <td>93</td>\n",
              "    </tr>\n",
              "    <tr>\n",
              "      <th>Yes</th>\n",
              "      <td>81</td>\n",
              "      <td>420</td>\n",
              "      <td>136</td>\n",
              "    </tr>\n",
              "  </tbody>\n",
              "</table>\n",
              "</div>"
            ],
            "text/plain": [
              "wellness_program  Don't know   No  Yes\n",
              "treatment                             \n",
              "No                       107  422   93\n",
              "Yes                       81  420  136"
            ]
          },
          "metadata": {
            "tags": []
          },
          "execution_count": 42
        }
      ]
    },
    {
      "cell_type": "markdown",
      "metadata": {
        "id": "E_EvtOXtb930",
        "colab_type": "text"
      },
      "source": [
        "Teste de hipótese Pearson's Chi-Square:"
      ]
    },
    {
      "cell_type": "code",
      "metadata": {
        "id": "JEkxOLXu8Iuf",
        "colab_type": "code",
        "colab": {
          "base_uri": "https://localhost:8080/",
          "height": 34
        },
        "outputId": "bcb6139a-5552-4072-d799-196a38d8f22f"
      },
      "source": [
        "stat_t_w, p_t_w, dof_t_w, expected_t_w = sct.chi2_contingency(table_t_w)\n",
        "\n",
        "alpha = 0.05\n",
        "if p_t_w <= alpha:\n",
        "\tprint('Dependente (rejeitar H0)')\n",
        "else:\n",
        "\tprint('Independente (falha em rejeitar H0)')"
      ],
      "execution_count": null,
      "outputs": [
        {
          "output_type": "stream",
          "text": [
            "Dependente (rejeitar H0)\n"
          ],
          "name": "stdout"
        }
      ]
    },
    {
      "cell_type": "markdown",
      "metadata": {
        "id": "YYJuyhYCVJuq",
        "colab_type": "text"
      },
      "source": [
        "Como podemos ver, dentre os respondentes que disseram que suas empresas possuem programas de bem-estar, a maioria já buscou tratamento para doenças mentais. Dentre os que não sabem se a empresa possui um programa deste tipo, a maior parte nunca buscou tratamento. E por fim, dentre os que disseram que a empresa não possui tal programa, apesar de ter praticamente o mesmo número entre os que já buscaram e nunca buscaram, os que nunca buscaram são maioria.\n",
        "\n",
        "Neste caso, vemos que uma empresa possuir um programa de bem-estar, não quer dizer que uma frequência menor de seus funcionários busquem tratamento para doenças mentais.\n",
        "\n",
        "O teste Pearson's Chi-Square, nesse caso, **rejeita a hipótese e mostra que sim, há uma dependência entra as variáveis**.\n",
        "\n",
        "\n",
        "---\n",
        "A última questão é:\n",
        "\n",
        "- As empresas que possuem benefícios para saúde mental tem uma frequência menor de respondentes que buscaram tratamento para doenças mentais?\n",
        "\n",
        "A nossa hipótese nula nesse caso é: *não existe uma associação entre as duas variáveis*.\n"
      ]
    },
    {
      "cell_type": "code",
      "metadata": {
        "id": "pSdR5YGpJqbd",
        "colab_type": "code",
        "colab": {
          "base_uri": "https://localhost:8080/",
          "height": 385
        },
        "outputId": "92d7e103-b699-4079-d5e4-7d1bfc6a8ee7"
      },
      "source": [
        "ax = sns.catplot(x=\"benefits\", hue=\"treatment\", kind=\"count\", data=data)\n",
        "plt.title('Respondentes por benefícios e busca por tratamento')\n",
        "plt.show()"
      ],
      "execution_count": null,
      "outputs": [
        {
          "output_type": "display_data",
          "data": {
            "image/png": "[encoded data removed]",
            "text/plain": [
              "<Figure size 417.875x360 with 1 Axes>"
            ]
          },
          "metadata": {
            "tags": [],
            "needs_background": "light"
          }
        }
      ]
    },
    {
      "cell_type": "code",
      "metadata": {
        "id": "c_85EDzhx8QX",
        "colab_type": "code",
        "colab": {
          "base_uri": "https://localhost:8080/",
          "height": 142
        },
        "outputId": "034430fb-1a3b-4620-b468-866aa0211be5"
      },
      "source": [
        "table_t_b = pd.pivot_table(data, index = ['treatment'], columns = ['benefits'], aggfunc = 'size') # tabela de contingência\n",
        "table_t_b"
      ],
      "execution_count": null,
      "outputs": [
        {
          "output_type": "execute_result",
          "data": {
            "text/html": [
              "<div>\n",
              "<style scoped>\n",
              "    .dataframe tbody tr th:only-of-type {\n",
              "        vertical-align: middle;\n",
              "    }\n",
              "\n",
              "    .dataframe tbody tr th {\n",
              "        vertical-align: top;\n",
              "    }\n",
              "\n",
              "    .dataframe thead th {\n",
              "        text-align: right;\n",
              "    }\n",
              "</style>\n",
              "<table border=\"1\" class=\"dataframe\">\n",
              "  <thead>\n",
              "    <tr style=\"text-align: right;\">\n",
              "      <th>benefits</th>\n",
              "      <th>Don't know</th>\n",
              "      <th>No</th>\n",
              "      <th>Yes</th>\n",
              "    </tr>\n",
              "    <tr>\n",
              "      <th>treatment</th>\n",
              "      <th></th>\n",
              "      <th></th>\n",
              "      <th></th>\n",
              "    </tr>\n",
              "  </thead>\n",
              "  <tbody>\n",
              "    <tr>\n",
              "      <th>No</th>\n",
              "      <td>257</td>\n",
              "      <td>193</td>\n",
              "      <td>172</td>\n",
              "    </tr>\n",
              "    <tr>\n",
              "      <th>Yes</th>\n",
              "      <td>151</td>\n",
              "      <td>181</td>\n",
              "      <td>305</td>\n",
              "    </tr>\n",
              "  </tbody>\n",
              "</table>\n",
              "</div>"
            ],
            "text/plain": [
              "benefits   Don't know   No  Yes\n",
              "treatment                      \n",
              "No                257  193  172\n",
              "Yes               151  181  305"
            ]
          },
          "metadata": {
            "tags": []
          },
          "execution_count": 45
        }
      ]
    },
    {
      "cell_type": "markdown",
      "metadata": {
        "id": "8CGatDlPb_ZQ",
        "colab_type": "text"
      },
      "source": [
        "Teste de hipótese Pearson's Chi-Square:"
      ]
    },
    {
      "cell_type": "code",
      "metadata": {
        "id": "4pLtj7xNyA3R",
        "colab_type": "code",
        "colab": {
          "base_uri": "https://localhost:8080/",
          "height": 34
        },
        "outputId": "4dae1bac-24e4-49e6-ebcd-251e2102defd"
      },
      "source": [
        "stat_t_b, p_t_b, dof_t_b, expected_t_b = sct.chi2_contingency(table_t_b)\n",
        "\n",
        "alpha = 0.05\n",
        "if p_t_b <= alpha:\n",
        "\tprint('Dependente (rejeitar H0)')\n",
        "else:\n",
        "\tprint('Independente (falha em rejeitar H0)')"
      ],
      "execution_count": null,
      "outputs": [
        {
          "output_type": "stream",
          "text": [
            "Dependente (rejeitar H0)\n"
          ],
          "name": "stdout"
        }
      ]
    },
    {
      "cell_type": "markdown",
      "metadata": {
        "id": "CL61ZUsvKCPV",
        "colab_type": "text"
      },
      "source": [
        "Podemos perceber que na verdade é o contrário. Dos respondentes que trabalham em uma empresa que possui benefícios para saúde mental, uma grande parte dos mesmos disseram ter buscado tratamento, em comparação aos respondentes que não sabiam se a empresa possuía tal benefício ou que confirmaram que a empresa não tinha, em que a maioria nunca buscou tratamento para saúde mental.\n",
        "\n",
        "O teste Pearson's Chi-Square apresenta então, que sim, **realmente há dependência, e que podemos rejeitar a hipótese nula**."
      ]
    },
    {
      "cell_type": "markdown",
      "metadata": {
        "id": "LM0szpOZWHyg",
        "colab_type": "text"
      },
      "source": [
        "# **Análise final**\n",
        "\n",
        "### O objetivo da EDA foi de apresentar informações sobre doenças mentais no local de trabalho para as pessoas que estão buscando dados sobre empresas no site de *review*.\n",
        "\n",
        "### Os dados de entrada estavam em formato tabular, em arquivo .csv, com 27 colunas e 1259 registros.\n",
        "\n",
        "### A linguagem escolhida para realizar a EDA foi **python**, devido as inúmeras bibliotecas e maior conhecimento da syntax por parte do autor.\n",
        "\n",
        "### **As informações, em resumo, que iremos passar para o público-alvo são**:\n",
        "\n",
        "### - Ao contrário dos homens cis, mulheres cis e demais gêneros, que são minorias, têm maior frequência, dentro de seu grupo, de busca por tratamento para saúde mental;\n",
        "\n",
        "### - Dentre os que possuem histórico familiar de doenças mentais, grande parte busca por tratamento para saúde mental;\n",
        "\n",
        "### - O tamanho de uma empresa não influencia na frequência de pessoas colaboradoras que buscam por tratamento de saúde mental;\n",
        "\n",
        "### - Empresas que têm programas de bem-estar possuem mais pessoas colaboradoras que buscam tratamento para saúde mental em comparação as empresas que não possuem;\n",
        "\n",
        "### - Empresas que possuem benefícios para saúde mental, apresentam maior frequência de pessoas colaboradoras que buscam por tratamento para a mesma.\n"
      ]
    },
    {
      "cell_type": "code",
      "metadata": {
        "id": "N_TA8eddGLjT",
        "colab_type": "code",
        "colab": {}
      },
      "source": [
        ""
      ],
      "execution_count": null,
      "outputs": []
    }
  ]
}